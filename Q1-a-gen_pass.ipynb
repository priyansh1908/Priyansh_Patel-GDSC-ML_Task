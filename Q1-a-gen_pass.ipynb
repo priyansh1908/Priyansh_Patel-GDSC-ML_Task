{
 "cells": [
  {
   "cell_type": "code",
   "execution_count": 37,
   "id": "24595cee",
   "metadata": {},
   "outputs": [],
   "source": [
    "import random,string\n"
   ]
  },
  {
   "cell_type": "code",
   "execution_count": 38,
   "id": "430cce73",
   "metadata": {},
   "outputs": [
    {
     "data": {
      "text/plain": [
       "'0123456789'"
      ]
     },
     "execution_count": 38,
     "metadata": {},
     "output_type": "execute_result"
    }
   ],
   "source": [
    "string.digits"
   ]
  },
  {
   "cell_type": "code",
   "execution_count": 39,
   "id": "20b887c6",
   "metadata": {},
   "outputs": [
    {
     "data": {
      "text/plain": [
       "'abcdefghijklmnopqrstuvwxyzABCDEFGHIJKLMNOPQRSTUVWXYZ'"
      ]
     },
     "execution_count": 39,
     "metadata": {},
     "output_type": "execute_result"
    }
   ],
   "source": [
    "string.ascii_letters"
   ]
  },
  {
   "cell_type": "code",
   "execution_count": 40,
   "id": "8a41eb18",
   "metadata": {},
   "outputs": [
    {
     "data": {
      "text/plain": [
       "'!\"#$%&\\'()*+,-./:;<=>?@[\\\\]^_`{|}~'"
      ]
     },
     "execution_count": 40,
     "metadata": {},
     "output_type": "execute_result"
    }
   ],
   "source": [
    "string.punctuation"
   ]
  },
  {
   "cell_type": "code",
   "execution_count": 47,
   "id": "e1c24a44",
   "metadata": {},
   "outputs": [],
   "source": [
    "def gen_pass(n):\n",
    "    final_pass=' '\n",
    "    #combine letters and digits into one array \n",
    "    temp_variable = string.ascii_letters + string.digits+ string.punctuation\n",
    "    for i in range (0,n):\n",
    "        final_pass=final_pass+(random.choice(temp_variable))\n",
    "    return(final_pass)\n"
   ]
  },
  {
   "cell_type": "code",
   "execution_count": 48,
   "id": "77e1e406",
   "metadata": {},
   "outputs": [],
   "source": [
    "def main():\n",
    "        len = int(input(\"Enter length of password \"))\n",
    "        pass1=gen_pass(len)\n",
    "        print(\"Suggested Password is\", pass1)"
   ]
  },
  {
   "cell_type": "code",
   "execution_count": 49,
   "id": "70f20618",
   "metadata": {},
   "outputs": [
    {
     "name": "stdout",
     "output_type": "stream",
     "text": [
      "Enter length of password 11\n",
      "Suggested Password is  b[:AvMTc;?<\n"
     ]
    }
   ],
   "source": [
    "main()"
   ]
  },
  {
   "cell_type": "code",
   "execution_count": null,
   "id": "a5af5fa7",
   "metadata": {},
   "outputs": [],
   "source": []
  },
  {
   "cell_type": "code",
   "execution_count": null,
   "id": "d0768dde",
   "metadata": {},
   "outputs": [],
   "source": []
  }
 ],
 "metadata": {
  "kernelspec": {
   "display_name": "Python 3 (ipykernel)",
   "language": "python",
   "name": "python3"
  },
  "language_info": {
   "codemirror_mode": {
    "name": "ipython",
    "version": 3
   },
   "file_extension": ".py",
   "mimetype": "text/x-python",
   "name": "python",
   "nbconvert_exporter": "python",
   "pygments_lexer": "ipython3",
   "version": "3.11.4"
  }
 },
 "nbformat": 4,
 "nbformat_minor": 5
}
